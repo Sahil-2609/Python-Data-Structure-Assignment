{
 "cells": [
  {
   "cell_type": "markdown",
   "metadata": {},
   "source": []
  },
  {
   "cell_type": "markdown",
   "metadata": {},
   "source": [
    "# Python Data Structures Assignment\n",
    "\n",
    "## 1. Discuss string slicing and provide examples.\n",
    "\n",
    "### Description\n",
    "String slicing is a technique used to extract a part of a string using the syntax `string[start:stop:step]`. The `start` index is inclusive, the `stop` index is exclusive, and `step` determines the stride between indices.\n",
    "\n",
    "### Examples\n",
    "\n"
   ]
  },
  {
   "cell_type": "code",
   "execution_count": 78,
   "metadata": {},
   "outputs": [
    {
     "name": "stdout",
     "output_type": "stream",
     "text": [
      "Slice 0:5 -> Hello\n",
      "Slice 7: -> World!\n",
      "Slice ::2 -> Hlo ol!\n",
      "Slice 12:6:-1 -> !dlroW\n"
     ]
    }
   ],
   "source": [
    "# Define a string\n",
    "text = \"Hello, World!\"\n",
    "\n",
    "# Extract characters from index 0 to 4\n",
    "slice1 = text[0:5]\n",
    "print(f\"Slice 0:5 -> {slice1}\")  # Output: 'Hello'\n",
    "\n",
    "# Extract characters from index 7 to the end\n",
    "slice2 = text[7:]\n",
    "print(f\"Slice 7: -> {slice2}\")  # Output: 'World!'\n",
    "\n",
    "# Extract every second character\n",
    "slice3 = text[::2]\n",
    "print(f\"Slice ::2 -> {slice3}\")  # Output: 'Hlo ol!'\n",
    "\n",
    "# Extract characters from index 7 to 12 in reverse order\n",
    "slice4 = text[12:6:-1]\n",
    "print(f\"Slice 12:6:-1 -> {slice4}\")  # Output: 'W ,o'"
   ]
  },
  {
   "cell_type": "markdown",
   "metadata": {},
   "source": [
    "## 2. Explain the key features of lists in Python.\n",
    "\n",
    "### Description\n",
    "Lists are ordered, mutable collections of items. They can contain elements of different types.\n",
    "\n",
    "### Key Features:\n",
    "\n",
    "### 1. Ordered: \n",
    "Elements have a defined order.\n",
    "### Mutable:\n",
    "You can change elements after the list has been created.\n",
    "### Indexable: \n",
    "Elements can be accessed by their index.\n",
    "my_list = [1, 2, 3, 4, 5]\n",
    "\n",
    "### Access elements\n",
    "print(my_list[0])  # Output: 1\n",
    "\n",
    "### Modify elements\n",
    "my_list[2] = 10\n",
    "print(my_list)  # Output: [1, 2, 10, 4, 5]\n",
    "\n",
    "### Delete elements\n",
    "del my_list[1]\n",
    "print(my_list)  # Output: [1, 10, 4, 5]\n",
    "\n",
    "### 2. Mutable\n",
    "Lists are mutable, which means that you can change their contents after they have been created. This includes adding, modifying, and removing elements.\n",
    "\n",
    "### Examples"
   ]
  },
  {
   "cell_type": "code",
   "execution_count": 79,
   "metadata": {},
   "outputs": [
    {
     "name": "stdout",
     "output_type": "stream",
     "text": [
      "List after modifying index 1: [10, 25, 30, 40, 50]\n",
      "List after adding an item: [10, 25, 30, 40, 50, 60]\n",
      "List after removing an item: [10, 25, 40, 50, 60]\n"
     ]
    }
   ],
   "source": [
    "# Define a list\n",
    "my_list = [10, 20, 30, 40, 50]\n",
    "\n",
    "# Modify elements\n",
    "my_list[1] = 25\n",
    "print(\"List after modifying index 1:\", my_list)  # Output: [10, 25, 30, 40, 50]\n",
    "\n",
    "# Add elements\n",
    "my_list.append(60)\n",
    "print(\"List after adding an item:\", my_list)  # Output: [10, 25, 30, 40, 50, 60]\n",
    "\n",
    "# Remove elements\n",
    "my_list.remove(30)\n",
    "print(\"List after removing an item:\", my_list)  # Output: [10, 25, 40, 50, 60]"
   ]
  },
  {
   "cell_type": "markdown",
   "metadata": {},
   "source": [
    "### 3. Indexable and Slicable\n",
    "Lists support indexing and slicing. Indexing allows you to access individual elements, while slicing allows you to access a range of elements.\n",
    "\n",
    "### Examples"
   ]
  },
  {
   "cell_type": "code",
   "execution_count": 80,
   "metadata": {},
   "outputs": [
    {
     "name": "stdout",
     "output_type": "stream",
     "text": [
      "Element at index 3: 4\n",
      "Slice from index 2 to 5: [3, 4, 5, 6]\n",
      "Every second element: [1, 3, 5, 7, 9]\n"
     ]
    }
   ],
   "source": [
    "# Define a list\n",
    "my_list = [1, 2, 3, 4, 5, 6, 7, 8, 9]\n",
    "\n",
    "# Access elements using indexing\n",
    "print(\"Element at index 3:\", my_list[3])  # Output: 4\n",
    "\n",
    "# Access a slice of the list\n",
    "print(\"Slice from index 2 to 5:\", my_list[2:6])  # Output: [3, 4, 5, 6]\n",
    "\n",
    "# Access every second element\n",
    "print(\"Every second element:\", my_list[::2])  # Output: [1, 3, 5, 7, 9]"
   ]
  },
  {
   "cell_type": "markdown",
   "metadata": {},
   "source": [
    "### 4. Heterogeneous\n",
    "Lists can contain elements of different data types, including other lists. This allows for flexible data structures.\n",
    "\n",
    "### Examples"
   ]
  },
  {
   "cell_type": "code",
   "execution_count": 81,
   "metadata": {},
   "outputs": [
    {
     "name": "stdout",
     "output_type": "stream",
     "text": [
      "Heterogeneous list: [1, 'hello', 3.14, [1, 2, 3]]\n",
      "Nested list: [1, 2, 3]\n"
     ]
    }
   ],
   "source": [
    "# Define a heterogeneous list\n",
    "my_list = [1, 'hello', 3.14, [1, 2, 3]]\n",
    "\n",
    "print(\"Heterogeneous list:\", my_list)  # Output: [1, 'hello', 3.14, [1, 2, 3]]\n",
    "\n",
    "# Access nested list\n",
    "nested_list = my_list[3]\n",
    "print(\"Nested list:\", nested_list)  # Output: [1, 2, 3]"
   ]
  },
  {
   "cell_type": "markdown",
   "metadata": {},
   "source": [
    "### 5. Dynamic Size\n",
    "Lists in Python are dynamic, meaning they can grow or shrink in size as needed. This flexibility allows for easy management of collections.\n",
    "\n",
    "### Examples"
   ]
  },
  {
   "cell_type": "code",
   "execution_count": 82,
   "metadata": {},
   "outputs": [
    {
     "name": "stdout",
     "output_type": "stream",
     "text": [
      "List after adding items: [10, 20]\n",
      "List after removing an item: [10]\n"
     ]
    }
   ],
   "source": [
    "# Define an empty list\n",
    "my_list = []\n",
    "\n",
    "# Add elements\n",
    "my_list.append(10)\n",
    "my_list.append(20)\n",
    "print(\"List after adding items:\", my_list)  # Output: [10, 20]\n",
    "\n",
    "# Remove elements\n",
    "my_list.pop()\n",
    "print(\"List after removing an item:\", my_list)  # Output: [10]"
   ]
  },
  {
   "cell_type": "markdown",
   "metadata": {},
   "source": [
    "## 3. Describe how to access, modify, and delete elements in a list with examples.\n",
    "\n",
    "### Introduction\n",
    "Lists in Python are versatile and allow various operations for accessing, modifying, and deleting elements. In this notebook, we will explore these operations with examples.\n",
    "\n",
    "---\n",
    "\n",
    "### 1. Accessing Elements\n",
    "\n",
    "### Description\n",
    "You can access elements in a list using their index. Python uses zero-based indexing, meaning the first element has an index of 0.\n",
    "\n",
    "### Examples"
   ]
  },
  {
   "cell_type": "code",
   "execution_count": 83,
   "metadata": {},
   "outputs": [
    {
     "name": "stdout",
     "output_type": "stream",
     "text": [
      "Original list: ['apple', 'banana', 'cherry', 'date', 'elderberry']\n",
      "Element at index 0: apple\n",
      "Element at index 2: cherry\n",
      "Element at index -1 (last item): elderberry\n",
      "Element at index -3: cherry\n"
     ]
    }
   ],
   "source": [
    "# Define a list\n",
    "my_list = ['apple', 'banana', 'cherry', 'date', 'elderberry']\n",
    "\n",
    "# Access elements by index\n",
    "print(\"Original list:\", my_list)\n",
    "print(\"Element at index 0:\", my_list[0])  # Output: 'apple'\n",
    "print(\"Element at index 2:\", my_list[2])  # Output: 'cherry'\n",
    "\n",
    "# Access elements using negative indices\n",
    "print(\"Element at index -1 (last item):\", my_list[-1])  # Output: 'elderberry'\n",
    "print(\"Element at index -3:\", my_list[-3])  # Output: 'cherry'\n"
   ]
  },
  {
   "cell_type": "markdown",
   "metadata": {},
   "source": [
    "### 2. Modifying Elements\n",
    "\n",
    "### Description\n",
    "You can modify elements in a list by assigning a new value to a specific index.\n",
    "\n",
    "### Examples"
   ]
  },
  {
   "cell_type": "code",
   "execution_count": 84,
   "metadata": {},
   "outputs": [
    {
     "name": "stdout",
     "output_type": "stream",
     "text": [
      "List after modifying index 1: [10, 25, 30, 40, 50]\n",
      "List after modifying indices 2 to 3: [10, 25, 35, 45, 50]\n"
     ]
    }
   ],
   "source": [
    "# Define a list\n",
    "my_list = [10, 20, 30, 40, 50]\n",
    "\n",
    "# Modify elements\n",
    "my_list[1] = 25\n",
    "print(\"List after modifying index 1:\", my_list)  # Output: [10, 25, 30, 40, 50]\n",
    "\n",
    "# Modify multiple elements using slicing\n",
    "my_list[2:4] = [35, 45]\n",
    "print(\"List after modifying indices 2 to 3:\", my_list)  # Output: [10, 25, 35, 45, 50]"
   ]
  },
  {
   "cell_type": "markdown",
   "metadata": {},
   "source": [
    "### 3. Deleting Elements\n",
    "\n",
    "### Description\n",
    "Elements in a list can be deleted using the del statement, the remove() method, or the pop() method.\n",
    "\n",
    "### Examples"
   ]
  },
  {
   "cell_type": "code",
   "execution_count": 85,
   "metadata": {},
   "outputs": [
    {
     "name": "stdout",
     "output_type": "stream",
     "text": [
      "List after deleting index 2: ['apple', 'banana', 'date', 'elderberry']\n",
      "List after removing 'banana': ['apple', 'date', 'elderberry']\n",
      "List after popping the last item: ['apple', 'date']\n",
      "Popped item: elderberry\n"
     ]
    }
   ],
   "source": [
    "# Define a list\n",
    "my_list = ['apple', 'banana', 'cherry', 'date', 'elderberry']\n",
    "\n",
    "# Delete an element by index using del\n",
    "del my_list[2]\n",
    "print(\"List after deleting index 2:\", my_list)  # Output: ['apple', 'banana', 'date', 'elderberry']\n",
    "\n",
    "# Delete an element by value using remove()\n",
    "my_list.remove('banana')\n",
    "print(\"List after removing 'banana':\", my_list)  # Output: ['apple', 'date', 'elderberry']\n",
    "\n",
    "# Delete and return the last element using pop()\n",
    "last_item = my_list.pop()\n",
    "print(\"List after popping the last item:\", my_list)  # Output: ['apple', 'date']\n",
    "print(\"Popped item:\", last_item)  # Output: 'elderberry'"
   ]
  },
  {
   "cell_type": "markdown",
   "metadata": {},
   "source": [
    "## 4. Compare and Contrast Tuples and Lists with examples.\n",
    "\n",
    "### Introduction\n",
    "Tuples and lists are both versatile data structures in Python used to store collections of items. While they share similarities, they also have distinct differences that affect their use cases. This notebook will compare and contrast tuples and lists, providing examples to illustrate their features.\n",
    "\n",
    "---\n",
    "\n",
    "### 1. Definition\n",
    "\n",
    "### Lists\n",
    "- **Mutable**: Lists can be modified after creation. You can add, remove, or change elements.\n",
    "- **Syntax**: Defined using square brackets `[]`.\n",
    "\n",
    "### Tuples\n",
    "- **Immutable**: Tuples cannot be modified after creation. They are fixed-size and cannot be altered.\n",
    "- **Syntax**: Defined using parentheses `()`.\n",
    "\n",
    "---\n",
    "\n",
    "### 2. Syntax and Creation\n",
    "\n",
    "### Lists"
   ]
  },
  {
   "cell_type": "code",
   "execution_count": 86,
   "metadata": {},
   "outputs": [
    {
     "name": "stdout",
     "output_type": "stream",
     "text": [
      "List: [1, 2, 3, 4, 5]\n"
     ]
    }
   ],
   "source": [
    "# Define a list\n",
    "my_list = [1, 2, 3, 4, 5]\n",
    "print(\"List:\", my_list)  # Output: [1, 2, 3, 4, 5]"
   ]
  },
  {
   "cell_type": "code",
   "execution_count": 87,
   "metadata": {},
   "outputs": [
    {
     "name": "stdout",
     "output_type": "stream",
     "text": [
      "Tuple: (1, 2, 3, 4, 5)\n"
     ]
    }
   ],
   "source": [
    "# Define a tuple\n",
    "my_tuple = (1, 2, 3, 4, 5)\n",
    "print(\"Tuple:\", my_tuple)  # Output: (1, 2, 3, 4, 5)"
   ]
  },
  {
   "cell_type": "markdown",
   "metadata": {},
   "source": [
    "### 3. Mutability"
   ]
  },
  {
   "cell_type": "code",
   "execution_count": 88,
   "metadata": {},
   "outputs": [
    {
     "name": "stdout",
     "output_type": "stream",
     "text": [
      "Modified list: [10, 25, 30]\n",
      "List after adding an item: [10, 25, 30, 40]\n",
      "List after removing an item: [10, 25, 40]\n"
     ]
    }
   ],
   "source": [
    "# Define a list\n",
    "my_list = [10, 20, 30]\n",
    "\n",
    "# Modify an element\n",
    "my_list[1] = 25\n",
    "print(\"Modified list:\", my_list)  # Output: [10, 25, 30]\n",
    "\n",
    "# Add an element\n",
    "my_list.append(40)\n",
    "print(\"List after adding an item:\", my_list)  # Output: [10, 25, 30, 40]\n",
    "\n",
    "# Remove an element\n",
    "my_list.remove(30)\n",
    "print(\"List after removing an item:\", my_list)  # Output: [10, 25, 40]"
   ]
  },
  {
   "cell_type": "code",
   "execution_count": 89,
   "metadata": {},
   "outputs": [],
   "source": [
    "# Define a tuple\n",
    "my_tuple = (10, 20, 30)\n",
    "\n",
    "# Attempt to modify an element (will raise an error)\n",
    "# my_tuple[1] = 25  # Uncommenting this line will raise a TypeError\n",
    "\n",
    "# Tuples do not support methods like append() or remove()"
   ]
  },
  {
   "cell_type": "markdown",
   "metadata": {},
   "source": [
    "### 4. Performance\n",
    "\n",
    "### Lists\n",
    "Performance: Lists are generally slower for certain operations compared to tuples due to their mutable nature.\n",
    "\n",
    "### Tuples\n",
    "Performance: Tuples are faster than lists for iteration and access because they are immutable and have a smaller memory footprint.\n",
    "\n",
    "\n",
    "### 5. Use Cases\n",
    "\n",
    "### Lists\n",
    "Use Case: Ideal for scenarios where you need a collection of items that can change over time, such as a list of tasks or user inputs.\n",
    "\n",
    "### Tuples\n",
    "Use Case: Suitable for fixed collections of items, such as coordinates or fixed data records, where immutability provides safety and efficiency.\n",
    "\n",
    "\n",
    "### 6. Nested Structures"
   ]
  },
  {
   "cell_type": "code",
   "execution_count": 90,
   "metadata": {},
   "outputs": [
    {
     "name": "stdout",
     "output_type": "stream",
     "text": [
      "Nested list: [1, 2, [3, 4]]\n"
     ]
    }
   ],
   "source": [
    "# List containing another list\n",
    "nested_list = [1, 2, [3, 4]]\n",
    "print(\"Nested list:\", nested_list)  # Output: [1, 2, [3, 4]]"
   ]
  },
  {
   "cell_type": "code",
   "execution_count": 91,
   "metadata": {},
   "outputs": [
    {
     "name": "stdout",
     "output_type": "stream",
     "text": [
      "Nested list: [1, 2, [3, 4]]\n"
     ]
    }
   ],
   "source": [
    "# List containing another list\n",
    "nested_list = [1, 2, [3, 4]]\n",
    "print(\"Nested list:\", nested_list)  # Output: [1, 2, [3, 4]]"
   ]
  },
  {
   "cell_type": "markdown",
   "metadata": {},
   "source": [
    "## 5.  Describe the key features of sets and provide examples of their use.\n",
    "\n",
    "\n",
    "### Introduction\n",
    "Sets are a built-in data structure in Python that represent an unordered collection of unique items. They are useful for operations involving membership tests, removing duplicates, and mathematical set operations.\n",
    "\n",
    "---\n",
    "\n",
    "### 1. Key Features of Sets\n",
    "\n",
    "### Unordered\n",
    "- **Description**: Sets do not maintain any order for their elements. This means that the order in which elements are inserted is not guaranteed to be the order in which they are retrieved.\n",
    "\n",
    "### Unique Elements\n",
    "- **Description**: Sets automatically ensure that all elements are unique. Duplicate elements are not allowed.\n",
    "\n",
    "### Mutable\n",
    "- **Description**: Sets are mutable, meaning you can add and remove elements after creation.\n",
    "\n",
    "### Syntax\n",
    "- **Description**: Sets are defined using curly braces `{}` or the `set()` constructor.\n",
    "\n",
    "---\n",
    "\n",
    "### 2. Creating and Initializing Sets\n",
    "\n",
    "### Examples"
   ]
  },
  {
   "cell_type": "code",
   "execution_count": 92,
   "metadata": {},
   "outputs": [
    {
     "name": "stdout",
     "output_type": "stream",
     "text": [
      "Empty set: set()\n",
      "Set with elements: {1, 2, 3, 4, 5}\n",
      "Set from list: {1, 2, 3, 4, 5}\n"
     ]
    }
   ],
   "source": [
    "# Create an empty set\n",
    "my_set = set()\n",
    "print(\"Empty set:\", my_set)  # Output: set()\n",
    "\n",
    "# Create a set with elements\n",
    "my_set = {1, 2, 3, 4, 5}\n",
    "print(\"Set with elements:\", my_set)  # Output: {1, 2, 3, 4, 5}\n",
    "\n",
    "# Create a set from a list (removes duplicates)\n",
    "my_list = [1, 2, 2, 3, 4, 4, 5]\n",
    "my_set_from_list = set(my_list)\n",
    "print(\"Set from list:\", my_set_from_list)  # Output: {1, 2, 3, 4, 5}"
   ]
  },
  {
   "cell_type": "markdown",
   "metadata": {},
   "source": [
    "### 3. Adding and Removing Elements\n",
    "Examples"
   ]
  },
  {
   "cell_type": "code",
   "execution_count": 93,
   "metadata": {},
   "outputs": [
    {
     "name": "stdout",
     "output_type": "stream",
     "text": [
      "Set after adding 4: {1, 2, 3, 4}\n",
      "Set after removing 2: {1, 3, 4}\n",
      "Set after discarding 10: {1, 3, 4}\n",
      "Popped element: 1\n",
      "Set after popping an element: {3, 4}\n"
     ]
    }
   ],
   "source": [
    "# Create a set\n",
    "my_set = {1, 2, 3}\n",
    "\n",
    "# Add elements\n",
    "my_set.add(4)\n",
    "print(\"Set after adding 4:\", my_set)  # Output: {1, 2, 3, 4}\n",
    "\n",
    "# Remove elements\n",
    "my_set.remove(2)\n",
    "print(\"Set after removing 2:\", my_set)  # Output: {1, 3, 4}\n",
    "\n",
    "# Discard an element (does not raise an error if the element is not present)\n",
    "my_set.discard(10)\n",
    "print(\"Set after discarding 10:\", my_set)  # Output: {1, 3, 4}\n",
    "\n",
    "# Pop an element (removes and returns an arbitrary element)\n",
    "popped_element = my_set.pop()\n",
    "print(\"Popped element:\", popped_element)\n",
    "print(\"Set after popping an element:\", my_set)"
   ]
  },
  {
   "cell_type": "markdown",
   "metadata": {},
   "source": [
    "### 4. Set Operations\n",
    "Examples"
   ]
  },
  {
   "cell_type": "code",
   "execution_count": 94,
   "metadata": {},
   "outputs": [
    {
     "name": "stdout",
     "output_type": "stream",
     "text": [
      "Union: {1, 2, 3, 4, 5, 6}\n",
      "Intersection: {3, 4}\n",
      "Difference: {1, 2}\n",
      "Symmetric Difference: {1, 2, 5, 6}\n"
     ]
    }
   ],
   "source": [
    "# Define two sets\n",
    "set_a = {1, 2, 3, 4}\n",
    "set_b = {3, 4, 5, 6}\n",
    "\n",
    "# Union\n",
    "union_set = set_a | set_b\n",
    "print(\"Union:\", union_set)  # Output: {1, 2, 3, 4, 5, 6}\n",
    "\n",
    "# Intersection\n",
    "intersection_set = set_a & set_b\n",
    "print(\"Intersection:\", intersection_set)  # Output: {3, 4}\n",
    "\n",
    "# Difference\n",
    "difference_set = set_a - set_b\n",
    "print(\"Difference:\", difference_set)  # Output: {1, 2}\n",
    "\n",
    "# Symmetric Difference\n",
    "symmetric_difference_set = set_a ^ set_b\n",
    "print(\"Symmetric Difference:\", symmetric_difference_set)  # Output: {1, 2, 5, 6}"
   ]
  },
  {
   "cell_type": "markdown",
   "metadata": {},
   "source": [
    "### 5. Use Cases\n",
    "Examples"
   ]
  },
  {
   "cell_type": "code",
   "execution_count": 95,
   "metadata": {},
   "outputs": [
    {
     "name": "stdout",
     "output_type": "stream",
     "text": [
      "Is 20 in the set? True\n",
      "Is 40 in the set? False\n",
      "List with duplicates removed: [10, 20, 30]\n",
      "Common elements: {4, 5}\n"
     ]
    }
   ],
   "source": [
    "# Membership Testing\n",
    "my_set = {10, 20, 30}\n",
    "print(\"Is 20 in the set?\", 20 in my_set)  # Output: True\n",
    "print(\"Is 40 in the set?\", 40 in my_set)  # Output: False\n",
    "\n",
    "# Removing Duplicates from a List\n",
    "list_with_duplicates = [10, 20, 20, 30, 30, 30]\n",
    "unique_list = list(set(list_with_duplicates))\n",
    "print(\"List with duplicates removed:\", unique_list)  # Output: [10, 20, 30]\n",
    "\n",
    "# Set Operations in Data Analysis\n",
    "set_a = {1, 2, 3, 4, 5}\n",
    "set_b = {4, 5, 6, 7, 8}\n",
    "common_elements = set_a & set_b\n",
    "print(\"Common elements:\", common_elements)  # Output: {4, 5}"
   ]
  },
  {
   "cell_type": "markdown",
   "metadata": {},
   "source": [
    "### 6. Discuss the use cases of tuples and sets in Python programming.\n",
    "\n",
    "### Introduction\n",
    "Tuples and sets are both important data structures in Python, each with specific use cases based on their unique characteristics. Understanding when to use each can greatly enhance the efficiency and readability of your code.\n",
    "\n",
    "---\n",
    "\n",
    "### 1. Use Cases of Tuples\n",
    "\n",
    "### Immutable Data\n",
    "**Description**: Tuples are immutable, meaning once created, their elements cannot be modified. This property makes tuples ideal for fixed collections of items that should not change.\n",
    "\n",
    "**Use Case**: Tuples are often used to represent fixed records or data that should remain constant, such as coordinates or settings.\n",
    "\n",
    "### Examples"
   ]
  },
  {
   "cell_type": "code",
   "execution_count": 96,
   "metadata": {},
   "outputs": [
    {
     "name": "stdout",
     "output_type": "stream",
     "text": [
      "Coordinates: (40.7128, -74.006)\n",
      "Name: Alice\n",
      "Age: 30\n",
      "Profession: Engineer\n"
     ]
    }
   ],
   "source": [
    "# Define a tuple for coordinates\n",
    "coordinates = (40.7128, -74.0060)  # Latitude and Longitude of New York City\n",
    "print(\"Coordinates:\", coordinates)\n",
    "\n",
    "# Function returning multiple values\n",
    "def get_user_info():\n",
    "    return (\"Alice\", 30, \"Engineer\")\n",
    "\n",
    "name, age, profession = get_user_info()\n",
    "print(\"Name:\", name)          # Output: Alice\n",
    "print(\"Age:\", age)            # Output: 30\n",
    "print(\"Profession:\", profession)  # Output: Engineer"
   ]
  },
  {
   "cell_type": "markdown",
   "metadata": {},
   "source": [
    "### Keys in Dictionaries\n",
    "\n",
    "Description: Tuples can be used as keys in dictionaries, whereas lists cannot. This is because tuples are hashable due to their immutability, making them suitable for use as dictionary keys.\n",
    "\n",
    "Use Case: When you need a composite key in a dictionary where the key is a combination of multiple values.\n",
    "\n",
    "### Examples"
   ]
  },
  {
   "cell_type": "code",
   "execution_count": 97,
   "metadata": {},
   "outputs": [
    {
     "name": "stdout",
     "output_type": "stream",
     "text": [
      "Location for coordinates (40.7128, -74.0060): New York\n"
     ]
    }
   ],
   "source": [
    "# Define a dictionary with tuple keys\n",
    "locations = {\n",
    "    (40.7128, -74.0060): \"New York\",\n",
    "    (34.0522, -118.2437): \"Los Angeles\",\n",
    "}\n",
    "\n",
    "print(\"Location for coordinates (40.7128, -74.0060):\", locations[(40.7128, -74.0060)])"
   ]
  },
  {
   "cell_type": "markdown",
   "metadata": {},
   "source": [
    "### 2. Use Cases of Sets\n",
    "\n",
    "### Unique Elements\n",
    "\n",
    "Description: Sets automatically ensure that all elements are unique. This makes them ideal for scenarios where you need to eliminate duplicates.\n",
    "\n",
    "Use Case: Removing duplicate items from a collection, such as user IDs or product codes.\n",
    "\n",
    "### Examples"
   ]
  },
  {
   "cell_type": "code",
   "execution_count": 98,
   "metadata": {},
   "outputs": [
    {
     "name": "stdout",
     "output_type": "stream",
     "text": [
      "Unique numbers: {1, 2, 3, 4, 5}\n"
     ]
    }
   ],
   "source": [
    "# Remove duplicates from a list\n",
    "numbers = [1, 2, 2, 3, 4, 4, 5]\n",
    "unique_numbers = set(numbers)\n",
    "print(\"Unique numbers:\", unique_numbers)  # Output: {1, 2, 3, 4, 5}"
   ]
  },
  {
   "cell_type": "markdown",
   "metadata": {},
   "source": [
    "### Membership Testing\n",
    "\n",
    "Description: Sets provide fast membership testing, making them efficient for checking if an item is present in a collection.\n",
    "\n",
    "Use Case: Quickly checking for the presence of an element in a large dataset, such as validating user permissions or checking membership in a group.\n",
    "\n",
    "### Examples"
   ]
  },
  {
   "cell_type": "code",
   "execution_count": 99,
   "metadata": {},
   "outputs": [
    {
     "name": "stdout",
     "output_type": "stream",
     "text": [
      "Is 'alice' an allowed user? True\n",
      "Is 'david' an allowed user? False\n"
     ]
    }
   ],
   "source": [
    "# Membership testing\n",
    "allowed_users = {\"alice\", \"bob\", \"charlie\"}\n",
    "\n",
    "print(\"Is 'alice' an allowed user?\", \"alice\" in allowed_users)  # Output: True\n",
    "print(\"Is 'david' an allowed user?\", \"david\" in allowed_users)  # Output: False\n"
   ]
  },
  {
   "cell_type": "markdown",
   "metadata": {},
   "source": [
    "### Set Operations\n",
    "\n",
    "Description: Sets support mathematical set operations like union, intersection, difference, and symmetric difference. These operations are useful for tasks involving relationships between collections.\n",
    "\n",
    "Use Case: Performing operations like finding common elements between two datasets or combining multiple datasets.\n",
    "\n",
    "### Examples"
   ]
  },
  {
   "cell_type": "code",
   "execution_count": 100,
   "metadata": {},
   "outputs": [
    {
     "name": "stdout",
     "output_type": "stream",
     "text": [
      "Union: {1, 2, 3, 4, 5, 6}\n",
      "Intersection: {3, 4}\n",
      "Difference: {1, 2}\n",
      "Symmetric Difference: {1, 2, 5, 6}\n"
     ]
    }
   ],
   "source": [
    "# Define two sets\n",
    "set_a = {1, 2, 3, 4}\n",
    "set_b = {3, 4, 5, 6}\n",
    "\n",
    "# Union\n",
    "print(\"Union:\", set_a | set_b)  # Output: {1, 2, 3, 4, 5, 6}\n",
    "\n",
    "# Intersection\n",
    "print(\"Intersection:\", set_a & set_b)  # Output: {3, 4}\n",
    "\n",
    "# Difference\n",
    "print(\"Difference:\", set_a - set_b)  # Output: {1, 2}\n",
    "\n",
    "# Symmetric Difference\n",
    "print(\"Symmetric Difference:\", set_a ^ set_b)  # Output: {1, 2, 5, 6}"
   ]
  },
  {
   "cell_type": "markdown",
   "metadata": {},
   "source": [
    "## Describe how to add, modify, and delete items in a dictionary with examples.\n",
    "\n",
    "### Introduction\n",
    "Dictionaries in Python are versatile and mutable data structures that store key-value pairs. This notebook covers how to add, modify, and delete items in a dictionary with examples.\n",
    "\n",
    "---\n",
    "\n",
    "### 1. Adding Items\n",
    "\n",
    "### Description\n",
    "You can add new key-value pairs to a dictionary by assigning a value to a new key. If the key already exists, its value will be updated.\n",
    "\n",
    "### Examples"
   ]
  },
  {
   "cell_type": "code",
   "execution_count": 101,
   "metadata": {},
   "outputs": [
    {
     "name": "stdout",
     "output_type": "stream",
     "text": [
      "Initial dictionary: {}\n",
      "Dictionary after adding items: {'name': 'Alice', 'age': 30, 'city': 'New York'}\n"
     ]
    }
   ],
   "source": [
    "# Create an empty dictionary\n",
    "my_dict = {}\n",
    "print(\"Initial dictionary:\", my_dict)  # Output: {}\n",
    "\n",
    "# Add new items\n",
    "my_dict['name'] = 'Alice'\n",
    "my_dict['age'] = 30\n",
    "my_dict['city'] = 'New York'\n",
    "print(\"Dictionary after adding items:\", my_dict)\n",
    "# Output: {'name': 'Alice', 'age': 30, 'city': 'New York'}"
   ]
  },
  {
   "cell_type": "markdown",
   "metadata": {},
   "source": [
    "### 2. Modifying Items\n",
    "\n",
    "Description\n",
    "You can modify the value associated with an existing key by assigning a new value to that key.\n",
    "\n",
    "### Examples"
   ]
  },
  {
   "cell_type": "code",
   "execution_count": 102,
   "metadata": {},
   "outputs": [
    {
     "name": "stdout",
     "output_type": "stream",
     "text": [
      "Original dictionary: {'name': 'Alice', 'age': 30, 'city': 'New York'}\n",
      "Dictionary after modifying items: {'name': 'Alice', 'age': 31, 'city': 'San Francisco'}\n"
     ]
    }
   ],
   "source": [
    "# Create a dictionary\n",
    "my_dict = {'name': 'Alice', 'age': 30, 'city': 'New York'}\n",
    "print(\"Original dictionary:\", my_dict)\n",
    "\n",
    "# Modify an existing item\n",
    "my_dict['age'] = 31\n",
    "my_dict['city'] = 'San Francisco'\n",
    "print(\"Dictionary after modifying items:\", my_dict)\n",
    "# Output: {'name': 'Alice', 'age': 31, 'city': 'San Francisco'}\n"
   ]
  },
  {
   "cell_type": "markdown",
   "metadata": {},
   "source": [
    "### 3. Deleting Items\n",
    "\n",
    "Description\n",
    "You can delete items from a dictionary using the del statement or the pop() method. The pop() method allows you to delete an item and return its value, while del just removes the item.\n",
    "\n",
    "### Examples"
   ]
  },
  {
   "cell_type": "code",
   "execution_count": 103,
   "metadata": {},
   "outputs": [
    {
     "name": "stdout",
     "output_type": "stream",
     "text": [
      "Original dictionary: {'name': 'Alice', 'age': 30, 'city': 'New York'}\n",
      "Dictionary after deleting 'city': {'name': 'Alice', 'age': 30}\n",
      "Dictionary after popping 'age': {'name': 'Alice'}\n",
      "Popped age value: 30\n"
     ]
    }
   ],
   "source": [
    "# Create a dictionary\n",
    "my_dict = {'name': 'Alice', 'age': 30, 'city': 'New York'}\n",
    "print(\"Original dictionary:\", my_dict)\n",
    "\n",
    "# Delete an item using del\n",
    "del my_dict['city']\n",
    "print(\"Dictionary after deleting 'city':\", my_dict)\n",
    "# Output: {'name': 'Alice', 'age': 30}\n",
    "\n",
    "# Delete an item using pop()\n",
    "age = my_dict.pop('age')\n",
    "print(\"Dictionary after popping 'age':\", my_dict)\n",
    "# Output: {'name': 'Alice'}\n",
    "print(\"Popped age value:\", age)  # Output: 30"
   ]
  },
  {
   "cell_type": "markdown",
   "metadata": {},
   "source": [
    "### 4. Handling Missing Keys\n",
    "\n",
    "Description\n",
    "When trying to access or modify a key that does not exist, it is good practice to handle such cases to avoid errors. The get() method can be used to provide a default value if the key is missing.\n",
    "\n",
    "### Examples"
   ]
  },
  {
   "cell_type": "code",
   "execution_count": 104,
   "metadata": {},
   "outputs": [
    {
     "name": "stdout",
     "output_type": "stream",
     "text": [
      "Name: Alice\n",
      "Address: Not Available\n"
     ]
    }
   ],
   "source": [
    "# Create a dictionary\n",
    "my_dict = {'name': 'Alice', 'age': 30}\n",
    "\n",
    "# Access an existing key\n",
    "print(\"Name:\", my_dict.get('name'))  # Output: Alice\n",
    "\n",
    "# Access a non-existing key with default value\n",
    "print(\"Address:\", my_dict.get('address', 'Not Available'))  # Output: Not Available"
   ]
  },
  {
   "cell_type": "markdown",
   "metadata": {},
   "source": [
    "## 8. Discuss the importance of dictionary keys being immutable and provide examples.\n",
    "\n",
    "### Introduction\n",
    "In Python, dictionaries are implemented using hash tables. For this implementation to work correctly and efficiently, dictionary keys must be immutable. This ensures that the key's hash value remains constant throughout its lifetime. This notebook discusses why immutability is important for dictionary keys and provides examples.\n",
    "\n",
    "---\n",
    "\n",
    "### 1. Hashing and Immutability\n",
    "\n",
    "### Description\n",
    "Dictionary keys in Python must be immutable because they are hashed to determine their position in the hash table. If a key were mutable, its hash value could change, leading to inconsistencies in the dictionary's structure and causing potential data loss or retrieval errors.\n",
    "\n",
    "### Examples"
   ]
  },
  {
   "cell_type": "code",
   "execution_count": 105,
   "metadata": {},
   "outputs": [
    {
     "name": "stdout",
     "output_type": "stream",
     "text": [
      "Hash of mutable key (list): 529344067295497451\n",
      "Hash of immutable key (tuple): 529344067295497451\n"
     ]
    }
   ],
   "source": [
    "# Define a function to demonstrate hash behavior\n",
    "def check_hash_immutability():\n",
    "    try:\n",
    "        # Define a mutable list\n",
    "        mutable_key = [1, 2, 3]\n",
    "        # Try to get the hash of the mutable key\n",
    "        print(\"Hash of mutable key (list):\", hash(tuple(mutable_key)))\n",
    "    except TypeError as e:\n",
    "        print(\"Error:\", e)\n",
    "\n",
    "    try:\n",
    "        # Define an immutable tuple\n",
    "        immutable_key = (1, 2, 3)\n",
    "        # Get the hash of the immutable key\n",
    "        print(\"Hash of immutable key (tuple):\", hash(immutable_key))\n",
    "    except TypeError as e:\n",
    "        print(\"Error:\", e)\n",
    "\n",
    "check_hash_immutability()\n"
   ]
  },
  {
   "cell_type": "markdown",
   "metadata": {},
   "source": [
    "### 2. Immutable Keys: Practical Implications\n",
    "\n",
    "### Description\n",
    "If dictionary keys were mutable, any change in the key’s value would change its hash, leading to problems with key lookup and retrieval. Immutable keys ensure that once a key is used, its identity remains constant, guaranteeing consistent dictionary operations.\n",
    "\n",
    "### Examples"
   ]
  },
  {
   "cell_type": "code",
   "execution_count": 106,
   "metadata": {},
   "outputs": [
    {
     "name": "stdout",
     "output_type": "stream",
     "text": [
      "Dictionary with immutable keys: {(1, 2): 'Point A', (3, 4): 'Point B'}\n",
      "Error: unhashable type: 'list'\n"
     ]
    }
   ],
   "source": [
    "# Create a dictionary with immutable keys (tuples)\n",
    "my_dict = {\n",
    "    (1, 2): \"Point A\",\n",
    "    (3, 4): \"Point B\"\n",
    "}\n",
    "print(\"Dictionary with immutable keys:\", my_dict)\n",
    "\n",
    "# Attempt to use a mutable list as a key (will raise an error)\n",
    "try:\n",
    "    my_dict[[1, 2]] = \"Point C\"\n",
    "except TypeError as e:\n",
    "    print(\"Error:\", e)"
   ]
  },
  {
   "cell_type": "markdown",
   "metadata": {},
   "source": [
    "### 3. Common Immutable Key Types\n",
    "\n",
    "### Description\n",
    "Immutable types in Python that can be used as dictionary keys include:\n",
    "\n",
    "Strings\n",
    "Numbers (integers, floats)\n",
    "Tuples (containing only other immutable types)\n",
    "\n",
    "### Examples"
   ]
  },
  {
   "cell_type": "code",
   "execution_count": 107,
   "metadata": {},
   "outputs": [
    {
     "name": "stdout",
     "output_type": "stream",
     "text": [
      "Dictionary with valid immutable keys: {'name': 'Alice', 42: 'Answer', (1, 2): 'Coordinates'}\n"
     ]
    }
   ],
   "source": [
    "# Valid dictionary with various immutable key types\n",
    "valid_dict = {\n",
    "    'name': 'Alice',\n",
    "    42: 'Answer',\n",
    "    (1, 2): 'Coordinates'\n",
    "}\n",
    "print(\"Dictionary with valid immutable keys:\", valid_dict)"
   ]
  },
  {
   "cell_type": "markdown",
   "metadata": {},
   "source": [
    "### 4. Why Mutable Types Cannot Be Keys\n",
    "\n",
    "### Description\n",
    "Mutable types, such as lists and sets, can be changed after their creation, which means their hash values can change. This inconsistency would break the fundamental operations of a dictionary, such as adding, updating, and retrieving items.\n",
    "\n",
    "### Examples"
   ]
  },
  {
   "cell_type": "code",
   "execution_count": 108,
   "metadata": {},
   "outputs": [
    {
     "name": "stdout",
     "output_type": "stream",
     "text": [
      "Error: unhashable type: 'list'\n"
     ]
    }
   ],
   "source": [
    "# Define a mutable list\n",
    "mutable_key = [1, 2, 3]\n",
    "\n",
    "# Attempt to use the mutable list as a key (will raise an error)\n",
    "try:\n",
    "    my_dict = {mutable_key: \"Mutable key\"}\n",
    "except TypeError as e:\n",
    "    print(\"Error:\", e)"
   ]
  }
 ],
 "metadata": {
  "kernelspec": {
   "display_name": "Python 3",
   "language": "python",
   "name": "python3"
  },
  "language_info": {
   "codemirror_mode": {
    "name": "ipython",
    "version": 3
   },
   "file_extension": ".py",
   "mimetype": "text/x-python",
   "name": "python",
   "nbconvert_exporter": "python",
   "pygments_lexer": "ipython3",
   "version": "3.12.5"
  }
 },
 "nbformat": 4,
 "nbformat_minor": 2
}
